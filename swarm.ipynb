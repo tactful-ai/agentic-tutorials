{
 "cells": [
  {
   "cell_type": "code",
   "execution_count": null,
   "metadata": {},
   "outputs": [],
   "source": [
    "import dotenv\n",
    "import os\n",
    "import json\n",
    "from textwrap import dedent\n",
    "import gradio as gr\n",
    "\n",
    "from openai import OpenAI\n",
    "from swarm import Swarm, Agent\n",
    "\n",
    "dotenv.load_dotenv(\".env\", override=True)\n",
    "openai_client = OpenAI(api_key=os.environ[\"OPENAI_API_KEY\"])\n",
    "client = Swarm(client=openai_client)\n",
    "\n",
    "\n"
   ]
  },
  {
   "cell_type": "markdown",
   "metadata": {},
   "source": [
    "## Agent handoff to another Agent "
   ]
  },
  {
   "cell_type": "code",
   "execution_count": null,
   "metadata": {},
   "outputs": [],
   "source": [
    "\n",
    "english_agent = Agent(\n",
    "    name=\"English Agent\",\n",
    "    instructions=\"You only speak English.\",\n",
    ")\n",
    "\n",
    "arabic_agent = Agent(\n",
    "    name=\"Arabic Agent\",\n",
    "    instructions=\"You only speak Arabic.\",\n",
    ")\n",
    "\n",
    "\n",
    "def transfer_to_arabic_agent():\n",
    "    \"\"\"Transfer arabic speaking users immediately.\"\"\"\n",
    "    return arabic_agent\n",
    "\n",
    "\n",
    "english_agent.functions.append(transfer_to_arabic_agent)\n",
    "\n",
    "messages = [{\"role\": \"user\", \"content\": \"السلام عليكم، كيف حالك؟\" }]\n",
    "response = client.run(agent=english_agent, messages=messages)\n",
    "messages.extend(response.messages)\n",
    "print(*[ f\"{m['role']} : {m['content']}\" for m in messages], sep=\"\\n\")"
   ]
  },
  {
   "cell_type": "markdown",
   "metadata": {},
   "source": [
    "# Agent Tools usage"
   ]
  },
  {
   "cell_type": "code",
   "execution_count": null,
   "metadata": {},
   "outputs": [],
   "source": [
    "\n",
    "def get_weather(location, time=\"now\"):\n",
    "    \"\"\"Get the current weather in a given location. Location MUST be a city.\"\"\"\n",
    "    print(f\"Getting weather for {location} at {time} from wather.com!!\")\n",
    "    print(\"Done!\\n\")\n",
    "    return json.dumps({\"location\": location, \"temperature\": \"65\", \"time\": time})\n",
    "\n",
    "\n",
    "def send_email(recipient, subject, body):\n",
    "    print(\"Sending email...\")\n",
    "    print(f\"To: {recipient}\")\n",
    "    print(f\"Subject: {subject}\")\n",
    "    print(f\"Body: {body}\")\n",
    "    print(f\"Done!\\n\")\n",
    "    return \"Sent!\"\n",
    "\n",
    "\n",
    "tool_agent = Agent(\n",
    "    name=\"Tool Agent\",\n",
    "    instructions=\"You are a helpful agent.\",\n",
    "    functions=[get_weather, send_email],\n",
    ")\n",
    "\n",
    "messages = []\n",
    "messages.extend([{\"role\": \"user\", \"content\": \"ايه احوال الجو اليوم؟\"}])\n",
    "response = client.run(agent=tool_agent, messages=messages)\n",
    "messages.extend(response.messages)\n",
    "\n",
    "messages.extend([{\"role\": \"user\", \"content\": \"القاهرة\"}])\n",
    "response = client.run(agent=tool_agent, messages=messages)\n",
    "messages.extend(response.messages)\n",
    "\n",
    "messages.extend([{\"role\": \"user\", \"content\": dedent(\"\"\"\n",
    "اريد ارسال بريد الكتروني الى احمد فى code-quests.com\n",
    "بعنوان: اجتماع الغد سيكون رائعا باذن الله\n",
    "والنص: سنتعلم الكثير ونستمتع بالوقت معا\n",
    "\"\"\")\n",
    "}])\n",
    "response = client.run(agent=tool_agent, messages=messages)\n",
    "messages.extend(response.messages)\n",
    "\n",
    "print(*[ f\"{m['role']} : {m['content']}\" for m in messages], sep=\"\\n\\n\")"
   ]
  },
  {
   "cell_type": "markdown",
   "metadata": {},
   "source": [
    "# Agent Routing and Selection"
   ]
  },
  {
   "cell_type": "code",
   "execution_count": 4,
   "metadata": {},
   "outputs": [],
   "source": [
    "\n",
    "def process_refund(item_id, reason=\"NOT SPECIFIED\"):\n",
    "    \"\"\"Refund an item. Refund an item. Make sure you have the item_id of the form item_... Ask for user confirmation before processing the refund.\"\"\"\n",
    "    print(f\"[mock] Refunding item {item_id} because {reason}...\")\n",
    "    return \"Refund Success!\"\n",
    "\n",
    "\n",
    "def apply_discount():\n",
    "    \"\"\"Apply a discount to the user's cart.\"\"\"\n",
    "    print(\"[mock] Applying discount...\")\n",
    "    return \"Applied discount of 11%\"\n",
    "\n",
    "\n",
    "triage_agent = Agent(\n",
    "    name=\"Triage Agent\",\n",
    "    instructions=\"Determine which agent is best suited to handle the user's request, and transfer the conversation to that agent.\",\n",
    ")\n",
    "sales_agent = Agent(\n",
    "    name=\"Sales Agent\",\n",
    "    instructions=\"Be super enthusiastic about selling bees.\",\n",
    ")\n",
    "refunds_agent = Agent(\n",
    "    name=\"Refunds Agent\",\n",
    "    instructions=\"Help the user with a refund. If the reason is that it was too expensive, offer the user a discount code. If they insist, then process the refund.\",\n",
    "    functions=[process_refund, apply_discount],\n",
    ")\n",
    "\n",
    "\n",
    "def transfer_back_to_triage():\n",
    "    \"\"\"Call this function if a user is asking about a topic that is not handled by the current agent.\"\"\"\n",
    "    return triage_agent\n",
    "\n",
    "\n",
    "def transfer_to_sales():\n",
    "    return sales_agent\n",
    "\n",
    "\n",
    "def transfer_to_refunds():\n",
    "    return refunds_agent\n",
    "\n",
    "\n",
    "triage_agent.functions = [transfer_to_sales, transfer_to_refunds]\n",
    "sales_agent.functions.append(transfer_back_to_triage)\n",
    "refunds_agent.functions.append(transfer_back_to_triage)\n",
    "\n",
    "\n"
   ]
  },
  {
   "cell_type": "code",
   "execution_count": null,
   "metadata": {},
   "outputs": [],
   "source": [
    "messages = [{\"role\": \"user\", \"content\": \"بدى اشترى نحلة\"}]\n",
    "response = client.run(agent=triage_agent, messages=messages)\n",
    "messages.extend(response.messages)\n",
    "print(*[ f\"{m['role']} : {m['content']}\" for m in messages], sep=\"\\n\")\n"
   ]
  },
  {
   "cell_type": "code",
   "execution_count": null,
   "metadata": {},
   "outputs": [],
   "source": [
    "messages = [{\"role\": \"user\", \"content\": \"أنا عايز ارجع النحلة دى\"}]\n",
    "response = client.run(agent=triage_agent, messages=messages)\n",
    "messages.extend(response.messages)\n",
    "\n",
    "# user insists on refund \n",
    "messages.extend([{\"role\": \"user\", \"content\": \"أصل النحل بتاعكم غالى\"}])\n",
    "response = client.run(agent=response.agent, messages=messages)\n",
    "messages.extend(response.messages)\n",
    "\n",
    "\n",
    "# user insists on refund \n",
    "messages.extend([{\"role\": \"user\", \"content\": \"مش عايز خصم، أنا عايز فلوسى\"}])\n",
    "response = client.run(agent=response.agent, messages=messages)\n",
    "messages.extend(response.messages)\n",
    "\n",
    "# user insists on refund \n",
    "messages.extend([{\"role\": \"user\", \"content\": \"النحلة item_100\"}])\n",
    "response = client.run(agent=response.agent, messages=messages)\n",
    "messages.extend(response.messages)\n",
    "\n",
    "\n",
    "print(*[ f\"{m['role']} : {m['content']}\" for m in messages], sep=\"\\n\\n\")\n",
    "\n"
   ]
  },
  {
   "cell_type": "markdown",
   "metadata": {},
   "source": [
    "# "
   ]
  },
  {
   "cell_type": "code",
   "execution_count": null,
   "metadata": {
    "vscode": {
     "languageId": "markdown"
    }
   },
   "outputs": [],
   "source": [
    "# Make it Interactive with Gradio!"
   ]
  },
  {
   "cell_type": "code",
   "execution_count": null,
   "metadata": {},
   "outputs": [],
   "source": [
    "def chat_with_agent(message, history):\n",
    "    messages = [{\"role\": \"user\", \"content\": message}]\n",
    "    response = client.run(agent=triage_agent, messages=messages)\n",
    "    messages.extend(response.messages)\n",
    "    \n",
    "    return messages[-1][\"content\"]\n",
    "\n",
    "demo = gr.ChatInterface(fn=chat_with_agent,\n",
    "        type=\"messages\")\n",
    "\n",
    "demo.launch()"
   ]
  }
 ],
 "metadata": {
  "kernelspec": {
   "display_name": "3.11",
   "language": "python",
   "name": "python3"
  },
  "language_info": {
   "codemirror_mode": {
    "name": "ipython",
    "version": 3
   },
   "file_extension": ".py",
   "mimetype": "text/x-python",
   "name": "python",
   "nbconvert_exporter": "python",
   "pygments_lexer": "ipython3",
   "version": "3.11.3"
  }
 },
 "nbformat": 4,
 "nbformat_minor": 2
}
